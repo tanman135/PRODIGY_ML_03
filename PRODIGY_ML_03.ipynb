{
  "nbformat": 4,
  "nbformat_minor": 0,
  "metadata": {
    "colab": {
      "provenance": []
    },
    "kernelspec": {
      "name": "python3",
      "display_name": "Python 3"
    },
    "language_info": {
      "name": "python"
    }
  },
  "cells": [
    {
      "cell_type": "markdown",
      "source": [
        "# **Install required libraries**"
      ],
      "metadata": {
        "id": "M8xJZH4ojdGA"
      }
    },
    {
      "cell_type": "code",
      "execution_count": 1,
      "metadata": {
        "colab": {
          "base_uri": "https://localhost:8080/"
        },
        "id": "5i6gArRyvko2",
        "outputId": "6ded7054-dc06-493f-fb47-de0174740f3f"
      },
      "outputs": [
        {
          "output_type": "stream",
          "name": "stdout",
          "text": [
            "Requirement already satisfied: opencv-python in /usr/local/lib/python3.10/dist-packages (4.10.0.84)\n",
            "Requirement already satisfied: numpy>=1.21.2 in /usr/local/lib/python3.10/dist-packages (from opencv-python) (1.26.4)\n",
            "Requirement already satisfied: opencv-python-headless in /usr/local/lib/python3.10/dist-packages (4.10.0.84)\n",
            "Requirement already satisfied: numpy>=1.21.2 in /usr/local/lib/python3.10/dist-packages (from opencv-python-headless) (1.26.4)\n"
          ]
        }
      ],
      "source": [
        "!pip install opencv-python\n",
        "!pip install opencv-python-headless\n"
      ]
    },
    {
      "cell_type": "code",
      "source": [
        "from google.colab import drive\n",
        "drive.mount('/content/drive')"
      ],
      "metadata": {
        "colab": {
          "base_uri": "https://localhost:8080/"
        },
        "id": "SwYKlqJCBkih",
        "outputId": "61f26a3e-a0a8-46ed-f634-2a464584f3cc"
      },
      "execution_count": 1,
      "outputs": [
        {
          "output_type": "stream",
          "name": "stdout",
          "text": [
            "Mounted at /content/drive\n"
          ]
        }
      ]
    },
    {
      "cell_type": "code",
      "source": [
        "import zipfile\n",
        "\n",
        "zip_path = '/content/drive/MyDrive/PRODIGY/train.zip'\n",
        "\n",
        "with zipfile.ZipFile(zip_path, 'r') as zip_ref:\n",
        "    zip_ref.extractall('./train')\n"
      ],
      "metadata": {
        "id": "b-cv578tEQ9I"
      },
      "execution_count": 2,
      "outputs": []
    },
    {
      "cell_type": "markdown",
      "source": [
        "# **Preprocess the data**"
      ],
      "metadata": {
        "id": "lqwb0HXJjWHn"
      }
    },
    {
      "cell_type": "code",
      "source": [
        "import os\n",
        "import cv2\n",
        "import numpy as np\n",
        "from sklearn.model_selection import train_test_split\n",
        "\n",
        "def load_images_with_downsampling(folder_path, img_size, num_samples_per_class):\n",
        "    data = []\n",
        "    labels = []\n",
        "    cat_count = 0\n",
        "    dog_count = 0\n",
        "\n",
        "    for img_name in os.listdir(folder_path):\n",
        "        if 'cat' in img_name and cat_count < num_samples_per_class:\n",
        "            label = 0\n",
        "            cat_count += 1\n",
        "        elif 'dog' in img_name and dog_count < num_samples_per_class:\n",
        "            label = 1\n",
        "            dog_count += 1\n",
        "        else:\n",
        "            continue\n",
        "\n",
        "        img_path = os.path.join(folder_path, img_name)\n",
        "        try:\n",
        "            img = cv2.imread(img_path)\n",
        "            img = cv2.resize(img, (img_size, img_size))\n",
        "            img = img.flatten()\n",
        "\n",
        "            data.append(img)\n",
        "            labels.append(label)\n",
        "        except Exception as e:\n",
        "            print(f\"Error reading {img_name}: {e}\")\n",
        "\n",
        "    return np.array(data), np.array(labels)\n",
        "\n",
        "FOLDER_PATH = '/content/train/train'\n",
        "IMG_SIZE = 64\n",
        "NUM_SAMPLES_PER_CLASS = 2500\n",
        "X, y = load_images_with_downsampling(FOLDER_PATH, IMG_SIZE, NUM_SAMPLES_PER_CLASS)\n",
        "X = X / 255.0\n",
        "print(f\"Dataset Size: {X.shape[0]} images\")"
      ],
      "metadata": {
        "colab": {
          "base_uri": "https://localhost:8080/"
        },
        "id": "rK__Z8rFjVkk",
        "outputId": "12cb35b5-db35-4c38-8322-af042d763108"
      },
      "execution_count": 4,
      "outputs": [
        {
          "output_type": "stream",
          "name": "stdout",
          "text": [
            "Dataset Size: 5000 images\n"
          ]
        }
      ]
    },
    {
      "cell_type": "markdown",
      "source": [
        "# **Split data**"
      ],
      "metadata": {
        "id": "wYw-FB3bNAbr"
      }
    },
    {
      "cell_type": "code",
      "source": [
        "X_train, X_test, y_train, y_test = train_test_split(X, y, test_size=0.2, random_state=42)\n",
        "\n",
        "print(f\"Training Set Size: {X_train.shape[0]}\")\n",
        "print(f\"Testing Set Size: {X_test.shape[0]}\")\n"
      ],
      "metadata": {
        "colab": {
          "base_uri": "https://localhost:8080/"
        },
        "id": "XM11imHpND8h",
        "outputId": "7be85c77-8af1-49c6-dad4-12b789c80a0b"
      },
      "execution_count": 5,
      "outputs": [
        {
          "output_type": "stream",
          "name": "stdout",
          "text": [
            "Training Set Size: 4000\n",
            "Testing Set Size: 1000\n"
          ]
        }
      ]
    },
    {
      "cell_type": "markdown",
      "source": [
        "# **Train the SVM Model**"
      ],
      "metadata": {
        "id": "UmAFyD99NHJF"
      }
    },
    {
      "cell_type": "code",
      "source": [
        "from sklearn.svm import SVC\n",
        "from sklearn.metrics import classification_report, accuracy_score\n",
        "\n",
        "print(\"Training the SVM...\")\n",
        "svm = SVC(kernel='rbf', C=1, gamma='scale')\n",
        "svm.fit(X_train, y_train)\n",
        "print(\"Training Complete!\")\n",
        "\n",
        "y_pred = svm.predict(X_test)\n",
        "print(\"\\nClassification Report:\")\n",
        "print(classification_report(y_test, y_pred))\n",
        "print(f\"Accuracy: {accuracy_score(y_test, y_pred) * 100:.2f}%\")"
      ],
      "metadata": {
        "colab": {
          "base_uri": "https://localhost:8080/"
        },
        "id": "eDJ6GTYnNM5C",
        "outputId": "70eae0d3-0ef8-4f66-dfaa-1176210bf846"
      },
      "execution_count": 6,
      "outputs": [
        {
          "output_type": "stream",
          "name": "stdout",
          "text": [
            "Training the SVM...\n",
            "Training Complete!\n",
            "\n",
            "Classification Report:\n",
            "              precision    recall  f1-score   support\n",
            "\n",
            "           0       0.64      0.65      0.64       501\n",
            "           1       0.64      0.63      0.64       499\n",
            "\n",
            "    accuracy                           0.64      1000\n",
            "   macro avg       0.64      0.64      0.64      1000\n",
            "weighted avg       0.64      0.64      0.64      1000\n",
            "\n",
            "Accuracy: 64.10%\n"
          ]
        }
      ]
    }
  ]
}